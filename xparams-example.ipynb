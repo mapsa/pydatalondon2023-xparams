{
 "cells": [
  {
   "attachments": {},
   "cell_type": "markdown",
   "metadata": {},
   "source": [
    "## Examples for the Amazing `XParams`"
   ]
  },
  {
   "cell_type": "code",
   "execution_count": 1,
   "metadata": {},
   "outputs": [],
   "source": [
    "from datetime import date\n",
    "from pprint import pprint\n",
    "\n",
    "from xparams import XParams"
   ]
  },
  {
   "cell_type": "code",
   "execution_count": 2,
   "metadata": {},
   "outputs": [],
   "source": [
    "defaults = {\n",
    "    \"param\": \"myparam\",\n",
    "    \"section\": {\n",
    "        \"subsection1\": {\n",
    "            \"param1\": 500,\n",
    "            \"param2\": True,\n",
    "            \"param3\": \"foo\",\n",
    "            \"param4\": [1, 2, 3],\n",
    "        },\n",
    "        \"subsection2\": {\n",
    "            \"param1\": False,\n",
    "            \"param2\": 2.0,\n",
    "            \"param3\": date(2023, 6, 3),\n",
    "            \"param4\": -1,\n",
    "            \"param5\": {\n",
    "                \"var1\": 1,\n",
    "                \"var2\": \"2\",\n",
    "            },\n",
    "        },\n",
    "    },\n",
    "}"
   ]
  },
  {
   "attachments": {},
   "cell_type": "markdown",
   "metadata": {},
   "source": [
    "### 1. Setting params from `defaults`"
   ]
  },
  {
   "cell_type": "code",
   "execution_count": 3,
   "metadata": {},
   "outputs": [],
   "source": [
    "params = XParams(defaults, user_params_dir=\"config\", verbose=False)"
   ]
  },
  {
   "cell_type": "code",
   "execution_count": 6,
   "metadata": {},
   "outputs": [
    {
     "data": {
      "text/plain": [
       "{'param1': 500, 'param2': True, 'param3': 'foo', 'param4': [1, 2, 3]}"
      ]
     },
     "execution_count": 6,
     "metadata": {},
     "output_type": "execute_result"
    }
   ],
   "source": [
    "params.section.subsection1.get_params()"
   ]
  },
  {
   "cell_type": "code",
   "execution_count": 5,
   "metadata": {},
   "outputs": [
    {
     "data": {
      "text/plain": [
       "{'var1': 1, 'var2': '2'}"
      ]
     },
     "execution_count": 5,
     "metadata": {},
     "output_type": "execute_result"
    }
   ],
   "source": [
    "params.section.subsection2.param5.get_params()"
   ]
  },
  {
   "attachments": {},
   "cell_type": "markdown",
   "metadata": {},
   "source": [
    "### 2. Using `myrun.toml`\n",
    "\n",
    "- Content `myrun.toml`:\n",
    "\n",
    "```toml\n",
    "[section.subsection1]\n",
    "param1 = 1_900_000\n",
    "param3 = \"bar\"\n",
    "\n",
    "\n",
    "[section.subsection2.param5]\n",
    "var1 = 2\n",
    "```"
   ]
  },
  {
   "cell_type": "code",
   "execution_count": 7,
   "metadata": {},
   "outputs": [
    {
     "name": "stdout",
     "output_type": "stream",
     "text": [
      "Parameters set from: /Users/vdiaz/repos/vadrienzo/pydatalondon2023-xparams/config/myrun.toml\n"
     ]
    }
   ],
   "source": [
    "params = XParams(defaults, name=\"myrun\", user_params_dir=\"config\")"
   ]
  },
  {
   "cell_type": "code",
   "execution_count": 8,
   "metadata": {},
   "outputs": [
    {
     "data": {
      "text/plain": [
       "{'param1': 1900000, 'param2': True, 'param3': 'bar', 'param4': [1, 2, 3]}"
      ]
     },
     "execution_count": 8,
     "metadata": {},
     "output_type": "execute_result"
    }
   ],
   "source": [
    "params.section.subsection1.get_params()"
   ]
  },
  {
   "cell_type": "code",
   "execution_count": 9,
   "metadata": {},
   "outputs": [
    {
     "data": {
      "text/plain": [
       "{'var1': 2, 'var2': '2'}"
      ]
     },
     "execution_count": 9,
     "metadata": {},
     "output_type": "execute_result"
    }
   ],
   "source": [
    "params.section.subsection2.param5.get_params()"
   ]
  },
  {
   "attachments": {},
   "cell_type": "markdown",
   "metadata": {},
   "source": [
    "### 3. Setting name toml file through environment variable\n",
    "```bash\n",
    "export XPARAMS=myrun\n",
    "```"
   ]
  },
  {
   "cell_type": "code",
   "execution_count": 10,
   "metadata": {},
   "outputs": [
    {
     "name": "stdout",
     "output_type": "stream",
     "text": [
      "env: XPARAMS=myrun\n",
      "Parameters set from: /Users/vdiaz/repos/vadrienzo/pydatalondon2023-xparams/config/myrun.toml\n",
      "{'param': 'myparam',\n",
      " 'section': {'subsection1': {'param1': 1900000,\n",
      "                             'param2': True,\n",
      "                             'param3': 'bar',\n",
      "                             'param4': [1, 2, 3]},\n",
      "             'subsection2': {'param1': False,\n",
      "                             'param2': 2.0,\n",
      "                             'param3': datetime.date(2023, 6, 3),\n",
      "                             'param4': -1,\n",
      "                             'param5': {'var1': 2, 'var2': '2'}}}}\n"
     ]
    }
   ],
   "source": [
    "%env XPARAMS=myrun\n",
    "params = XParams(defaults, user_params_dir=\"config\")\n",
    "\n",
    "pprint(params.as_saveable_object())"
   ]
  },
  {
   "cell_type": "code",
   "execution_count": 13,
   "metadata": {},
   "outputs": [
    {
     "name": "stdout",
     "output_type": "stream",
     "text": [
      "env: XPARAMS=\n",
      ">>>> I'll print this as many time as params.section.subsection2.param5: 1\n"
     ]
    }
   ],
   "source": [
    "%env XPARAMS=\n",
    "!make all"
   ]
  },
  {
   "attachments": {},
   "cell_type": "markdown",
   "metadata": {},
   "source": [
    "- Content of `myrun2.toml`\n",
    "```toml\n",
    "include = 'myrun'\n",
    "\n",
    "[section.subsection2.param5]\n",
    "var1 = 5\n",
    "```"
   ]
  },
  {
   "cell_type": "code",
   "execution_count": 15,
   "metadata": {},
   "outputs": [
    {
     "name": "stdout",
     "output_type": "stream",
     "text": [
      ">>>> I'll print this as many time as params.section.subsection2.param5: 5\n",
      ">>>> I'll print this as many time as params.section.subsection2.param5: 5\n",
      ">>>> I'll print this as many time as params.section.subsection2.param5: 5\n",
      ">>>> I'll print this as many time as params.section.subsection2.param5: 5\n",
      ">>>> I'll print this as many time as params.section.subsection2.param5: 5\n"
     ]
    }
   ],
   "source": [
    "!XPARAMS=myrun2 make"
   ]
  },
  {
   "attachments": {},
   "cell_type": "markdown",
   "metadata": {},
   "source": [
    "### 3. Setting a `personalized` environment variable"
   ]
  },
  {
   "cell_type": "code",
   "execution_count": 17,
   "metadata": {},
   "outputs": [
    {
     "name": "stdout",
     "output_type": "stream",
     "text": [
      "env: MYRUN=myrun2\n",
      "Parameters set from: /Users/vdiaz/repos/vadrienzo/pydatalondon2023-xparams/config/myrun2.toml\n",
      "{'param': 'myparam',\n",
      " 'section': {'subsection1': {'param1': 500,\n",
      "                             'param2': True,\n",
      "                             'param3': 'foo',\n",
      "                             'param4': [1, 2, 3]},\n",
      "             'subsection2': {'param1': False,\n",
      "                             'param2': 2.0,\n",
      "                             'param3': datetime.date(2023, 6, 3),\n",
      "                             'param4': -1,\n",
      "                             'param5': {'var1': 5, 'var2': '2'}}}}\n"
     ]
    }
   ],
   "source": [
    "%env MYRUN=myrun2\n",
    "params = XParams(defaults, env_var='MYRUN' ,user_params_dir=\"config\")\n",
    "\n",
    "pprint(params.as_saveable_object())"
   ]
  },
  {
   "cell_type": "code",
   "execution_count": null,
   "metadata": {},
   "outputs": [],
   "source": []
  }
 ],
 "metadata": {
  "kernelspec": {
   "display_name": "Python 3",
   "language": "python",
   "name": "python3"
  },
  "language_info": {
   "codemirror_mode": {
    "name": "ipython",
    "version": 3
   },
   "file_extension": ".py",
   "mimetype": "text/x-python",
   "name": "python",
   "nbconvert_exporter": "python",
   "pygments_lexer": "ipython3",
   "version": "3.11.2"
  },
  "orig_nbformat": 4
 },
 "nbformat": 4,
 "nbformat_minor": 2
}
